{
 "cells": [
  {
   "cell_type": "code",
   "execution_count": 5,
   "metadata": {},
   "outputs": [],
   "source": [
    "import numpy as np\n",
    "from PIL import Image"
   ]
  },
  {
   "cell_type": "code",
   "execution_count": 7,
   "metadata": {},
   "outputs": [],
   "source": [
    "img = Image.open(\"test.png\")\n",
    "try:\n",
    "    data = np.asarray( img, dtype='uint8' )\n",
    "except SystemError:\n",
    "    data = np.asarray( img.getdata(), dtype='uint8' )"
   ]
  },
  {
   "cell_type": "code",
   "execution_count": 16,
   "metadata": {},
   "outputs": [],
   "source": [
    "chunked = []\n",
    "for i in range(1):\n",
    "    chunked.append(data[i * 6:i * 6 + 6, i * 6:i * 6 + 6, :3])"
   ]
  },
  {
   "cell_type": "code",
   "execution_count": 23,
   "metadata": {},
   "outputs": [],
   "source": [
    "test = bin(0)\n",
    "for column in chunked:\n",
    "    for row in column:\n",
    "        for pixel in row:\n",
    "            test += format(int(pixel[0]), '#010b')bin() + bin(pixel[1]) + bin(pixel[2])"
   ]
  },
  {
   "cell_type": "code",
   "execution_count": 25,
   "metadata": {},
   "outputs": [
    {
     "data": {
      "text/plain": [
       "'0b00b11000000b101010110b111101110b10111110b101010010b111101000b10111100b101010010b111100110b11000000b101010100b111101100b10111100b101011100b111100100b11000100b101011000b111100100b10111110b101010110b111101000b10111100b101010100b111100110b10111100b101010110b111100100b10111110b101011010b111100100b11000000b101001110b111101000b11001100b101001100b111101000b10111000b101011000b111011110b10111100b101011000b111100000b11000000b101011000b111100010b11000010b101011010b111011110b11000100b101010000b111100010b11001100b101010010b111100010b10110110b101010100b111100100b11000000b101010100b111100110b11000000b101010000b111101000b10111010b101010010b111100100b10110110b101010000b111100110b10111110b101010000b111101010b11000000b101010000b111101100b11000100b101001000b111101000b11000010b101000110b111101000b10111110b101001100b111100110b10110110b101001100b111101000b10111000b101001110b111101110b11000000b101001010b111101010b11000100b101000010b111101110b11000010b101000010b111100110b10111100b101001110b111100010b10111010b101010110b111011110b10110100b101010000b11110000'"
      ]
     },
     "execution_count": 25,
     "metadata": {},
     "output_type": "execute_result"
    }
   ],
   "source": []
  },
  {
   "cell_type": "code",
   "execution_count": null,
   "metadata": {},
   "outputs": [],
   "source": []
  }
 ],
 "metadata": {
  "kernelspec": {
   "display_name": "Python 3",
   "language": "python",
   "name": "python3"
  },
  "language_info": {
   "codemirror_mode": {
    "name": "ipython",
    "version": 3
   },
   "file_extension": ".py",
   "mimetype": "text/x-python",
   "name": "python",
   "nbconvert_exporter": "python",
   "pygments_lexer": "ipython3",
   "version": "3.7.6"
  }
 },
 "nbformat": 4,
 "nbformat_minor": 4
}
